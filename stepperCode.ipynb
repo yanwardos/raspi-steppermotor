{
 "metadata": {
  "language_info": {
   "codemirror_mode": {
    "name": "ipython",
    "version": 3
   },
   "file_extension": ".py",
   "mimetype": "text/x-python",
   "name": "python",
   "nbconvert_exporter": "python",
   "pygments_lexer": "ipython3",
   "version": "3.8.5-final"
  },
  "orig_nbformat": 2,
  "kernelspec": {
   "name": "python3",
   "display_name": "Python 3",
   "language": "python"
  }
 },
 "nbformat": 4,
 "nbformat_minor": 2,
 "cells": [
  {
   "cell_type": "code",
   "execution_count": 12,
   "metadata": {},
   "outputs": [],
   "source": [
    "class StepperMotor:\n",
    "    'Input the motor pins'\n",
    "    def __init__(self, motorPins=[0, 0, 0, 0]):\n",
    "        import RPi.GPIO as GPIO\n",
    "        import time as time\n",
    "        from time import sleep as sleep\n",
    "        import math as math\n",
    "\n",
    "        # Libs\n",
    "        self.GPIO = GPIO\n",
    "        self.time = time\n",
    "        self.sleep = sleep\n",
    "        self.math = math\n",
    "\n",
    "        # Hardware\n",
    "        self.GPIO.setmode(GPIO.BOARD)\n",
    "        self.motorPins = motorPins\n",
    "        for i in motorPins:\n",
    "            GPIO.setup(i, GPIO.OUT)\n",
    "\n",
    "        # Vars\n",
    "        self.direction = True   # True Forward | False Backward\n",
    "        self.anglePosition = 0\n",
    "        self.defaultDelay = 0.001\n",
    "        self.sequences = [\n",
    "            [1, 0, 1, 0],\n",
    "            [0, 0, 1, 0],\n",
    "            [0, 1, 1, 0],\n",
    "            [0, 1, 0, 0],\n",
    "            [0, 1, 0, 1],\n",
    "            [0, 0, 0, 1],\n",
    "            [1, 0, 0, 1],\n",
    "            [1, 0, 0, 0]\n",
    "        ]\n",
    "\n",
    "    def jumpTo(self, destinationAngle, direction=1):\n",
    "        destinationAngle = destinationAngle%360\n",
    "        selisih = destinationAngle - self.anglePosition\n",
    "        if direction==1:\n",
    "            self.forward(selisih%360)\n",
    "        elif direction==0:\n",
    "            self.backward(abs(selisih)%360)\n",
    "        \n",
    "    'Rotate motor forward'    \n",
    "    def forward(self, rotateAngle):\n",
    "        if(rotateAngle<0):\n",
    "            self.backward(abs(rotateAngle))\n",
    "            return\n",
    "        print('Rotating forward for', rotateAngle)\n",
    "        stepNum = self.getStepByAngle(rotateAngle)\n",
    "        for i in range(self.anglePosition, self.anglePosition+stepNum):\n",
    "            for x in range(len(self.motorPins)):\n",
    "                self.GPIO.output(self.motorPins[x], self.sequences[i%8][x])\n",
    "            self.sleep(self.defaultDelay)\n",
    "        self.anglePosition+=rotateAngle\n",
    "        self.anglePosition = self.anglePosition%360\n",
    "\n",
    "    'Rotate motor backward'\n",
    "    def backward(self, rotateAngle):\n",
    "        if(rotateAngle<0):\n",
    "            self.forward(abs(rotateAngle))\n",
    "            return\n",
    "        print('Rotating backward for', rotateAngle)\n",
    "        stepNum = self.getStepByAngle(rotateAngle)\n",
    "        for i in range(self.anglePosition, self.anglePosition-stepNum, -1):\n",
    "            for x in range(len(self.motorPins)):\n",
    "                self.GPIO.output(self.motorPins[x], self.sequences[i%8][x])\n",
    "            self.sleep(self.defaultDelay)\n",
    "        self.anglePosition -= rotateAngle\n",
    "        self.anglePosition = self.anglePosition%360\n",
    "    \n",
    "    def motorSleep(self):\n",
    "        for x in range(len(self.motorPins)):\n",
    "            self.GPIO.output(self.motorPins[x], 0)\n",
    "\n",
    "    def getStepByAngle(self, angle):\n",
    "        return int((angle/360)*400)\n",
    "\n",
    "    def setSpeed(self, speedAPM):\n",
    "        if(speedAPM <= 0):\n",
    "            print(\"Min speed is\", 0, \"rotation per minute\")\n",
    "            return\n",
    "        if(speedAPM > 360*200):\n",
    "            print(\"Max speed is\", 360*200, \"rotation per minute\")\n",
    "            return\n",
    "        print(\"Set speed to \", speedAPM/360, \"rotation per minute\")\n",
    "        aps = speedAPM/60   # 1/s\n",
    "        a = (aps/360)*400   # step/s\n",
    "        t = 1/a             # perioda\n",
    "        self.defaultDelay = t"
   ]
  },
  {
   "cell_type": "code",
   "execution_count": 14,
   "metadata": {},
   "outputs": [
    {
     "output_type": "stream",
     "name": "stderr",
     "text": [
      "/home/pi/.local/lib/python3.7/site-packages/ipykernel_launcher.py:19: RuntimeWarning: This channel is already in use, continuing anyway.  Use GPIO.setwarnings(False) to disable warnings.\n"
     ]
    }
   ],
   "source": [
    "myStep = StepperMotor([3, 5, 7, 11])"
   ]
  },
  {
   "cell_type": "code",
   "execution_count": 45,
   "metadata": {},
   "outputs": [
    {
     "output_type": "stream",
     "name": "stdout",
     "text": [
      "Set speed to  100.0 rotation per minute\nRotating forward for 200\n"
     ]
    }
   ],
   "source": [
    "myStep.setSpeed(360*100)\n",
    "myStep.forward(200)\n",
    "myStep.motorSleep()"
   ]
  },
  {
   "cell_type": "code",
   "execution_count": null,
   "metadata": {},
   "outputs": [],
   "source": []
  }
 ]
}